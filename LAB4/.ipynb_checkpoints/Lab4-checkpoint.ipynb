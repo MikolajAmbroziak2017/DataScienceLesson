{
 "cells": [
  {
   "cell_type": "code",
   "execution_count": 1,
   "metadata": {},
   "outputs": [],
   "source": [
    "#zaimportowanie openpyxl\n",
    "from openpyxl import Workbook\n",
    "workbook = Workbook()"
   ]
  },
  {
   "cell_type": "code",
   "execution_count": 57,
   "metadata": {},
   "outputs": [],
   "source": [
    "#stworzenie trzech arkuszy giełda, filmweb i Linki\n",
    "gielda = workbook.create_sheet(\"Giełda\")\n",
    "linki = workbook.create_sheet(\"Linki\")\n",
    "filmweb = workbook.create_sheet(\"Filmweb\")"
   ]
  },
  {
   "cell_type": "code",
   "execution_count": 3,
   "metadata": {},
   "outputs": [],
   "source": [
    "import random\n",
    "import string\n",
    "#funkcja która zwraca konkretną ilość losowych liczb połaczonych joinem \n",
    "def los(y):\n",
    "    letter=\"\".join(random.choice(string.ascii_letters) for x in range(y))\n",
    "    return letter"
   ]
  },
  {
   "cell_type": "code",
   "execution_count": 17,
   "metadata": {},
   "outputs": [],
   "source": [
    "import requests\n",
    "from bs4 import BeautifulSoup\n",
    "#funkcja zwracająca kod strony która istnieje \n",
    "def szukaniestron():\n",
    "    los1=los(3)\n",
    "    odpowiedz=requests.get(\"https://stooq.pl/q/?s=\"+los1)\n",
    "    soup = BeautifulSoup(odpowiedz.text, 'html.parser')\n",
    "    soup.prettify()\n",
    "    search=soup.find(id=\"c2\")\n",
    "    while 'Symbol '+los1.upper()+' nie istnieje w bazie'==search.text:\n",
    "        los1=los(3)\n",
    "        odpowiedz=requests.get(\"https://stooq.pl/q/?s=\"+los1)\n",
    "        soup = BeautifulSoup(odpowiedz.text, 'html.parser')\n",
    "        soup.prettify()\n",
    "        search = soup.find(id=\"c2\")\n",
    "    return los1"
   ]
  },
  {
   "cell_type": "code",
   "execution_count": 20,
   "metadata": {},
   "outputs": [],
   "source": [
    "#stworzenie tablicy 5 działających stron\n",
    "def linki():\n",
    "    linki=[]\n",
    "    for x in range(5):\n",
    "        end=szukaniestron()\n",
    "        linki.append(\"https://stooq.pl/q/?s=\"+end)\n",
    "    return linki"
   ]
  },
  {
   "cell_type": "code",
   "execution_count": 19,
   "metadata": {},
   "outputs": [
    {
     "data": {
      "text/plain": [
       "'MOv'"
      ]
     },
     "execution_count": 19,
     "metadata": {},
     "output_type": "execute_result"
    }
   ],
   "source": [
    "szukaniestron()"
   ]
  },
  {
   "cell_type": "code",
   "execution_count": 30,
   "metadata": {},
   "outputs": [],
   "source": [
    "#zapisanie do tablicy 5 linków\n",
    "tabLink=linki()"
   ]
  },
  {
   "cell_type": "code",
   "execution_count": 32,
   "metadata": {},
   "outputs": [],
   "source": [
    "def wczytwart():\n",
    "    gielda[\"A1\"] = \"nazwa\"\n",
    "    gielda[\"B1\"] = \"kurs\"\n",
    "    gielda[\"C1\"] = \"Zmiana\"\n",
    "    gielda[\"D1\"] = \"Transakcje\"\n",
    "    for x in tabLink:\n",
    "        i=2\n",
    "        odpowiedz=requests.get(x)\n",
    "        soup = BeautifulSoup(odpowiedz.text, 'html.parser')\n",
    "        Kurs = float(soup.find(text=\"Kurs\").parent.find(\"span\").text)\n",
    "        Zmiana = float(soup.find(text=\"Zmiana\").parent.find(\"span\").text)\n",
    "        Transakcje = float(soup.find(text=\"Transakcje\").parent.find(\"span\").text)\n",
    "        kurs2 = float(soup2.find(text=\"Kurs\").parent.find(\"span\").text)\n",
    "        gielda[\"A\"+i] = x\n",
    "        gielda[\"B\"+i] = Kurs\n",
    "        gielda[\"C\"+i] = Zmiana\n",
    "        gielda[\"D\"+i] = Transakcje\n",
    "        i=i+1\n",
    "    workbook.save('ambroziak-165ica1.xlsx')"
   ]
  },
  {
   "cell_type": "code",
   "execution_count": 63,
   "metadata": {},
   "outputs": [],
   "source": [
    "filmweb[\"A1\"] = \"link\"\n",
    "filmweb[\"A2\"] = \"reżyseria\"\n",
    "filmweb[\"A3\"] = \"data premiery\"\n",
    "filmweb[\"A4\"] = \"boxoffice\"\n",
    "filmweb[\"A5\"] = \"ocena filmu\"\n",
    "#pobranie z filmwebu i zapisanie do xlsx\n",
    "odpowiedz = requests.get(\"https://www.filmweb.pl/film/%C5%9Aciana-1982-8673\")\n",
    "soup = BeautifulSoup(odpowiedz.text, 'html.parser')\n",
    "rezyseria = soup.find(text=\"reżyseria:\").next_element.find(\"a\").text\n",
    "boxoffice = soup.find(text=\"boxoffice:\").next_element.text[1:].replace(\" \", \"\")\n",
    "ocena = float(soup.find(\"span\", itemprop=\"ratingValue\").text.replace(\",\", \".\"))\n",
    "data = soup.find(text=\"premiera:\").next_element.find(\"span\").text\n",
    "filmweb[\"B1\"]= \"https://www.filmweb.pl/film/%C5%9Aciana-1982-8673\"\n",
    "filmweb[\"B2\"]= rezyseria\n",
    "filmweb[\"B3\"]= data\n",
    "filmweb[\"B4\"]= boxoffice\n",
    "filmweb[\"B5\"]= ocena \n",
    "workbook.save('ambroziak-165ica1.xlsx')"
   ]
  },
  {
   "cell_type": "code",
   "execution_count": 71,
   "metadata": {},
   "outputs": [
    {
     "name": "stdout",
     "output_type": "stream",
     "text": [
      "https://mc.yandex.ru/watch/49064765\n",
      "1\n",
      "https://jbzdy.cc/images/default.jpg\n",
      "2\n",
      "https://i1.jbzdy.cc/contents/2019/11/normal/tQ8TkcfM6bh3BQW1vuuInH8HtVOZW47a.jpg\n",
      "Coś mi tu nie gra3\n",
      "https://jbzdy.cc/images/default.jpg\n",
      "4\n",
      "https://i1.jbzdy.cc/contents/2019/11/normal/ehyaGlRZ4AgBmR9kNKcqRvwXrJEzjw7Q.jpg\n",
      "Razem dobędziemy mieczy5\n",
      "https://jbzdy.cc/images/default.jpg\n",
      "6\n",
      "https://i1.jbzdy.cc/contents/2019/11/normal/ACwR8rswKL5PhUnNktMGZ8N9JobqezfY.jpg\n",
      "Zawsze xD7\n",
      "https://jbzdy.cc/images/default.jpg\n",
      "8\n",
      "https://i1.jbzdy.cc/contents/2019/11/normal/JyQnXMhVmpixUCBRYoKcWx4XyngOd5nL.jpg\n",
      "Zawsze xD9\n",
      "https://jbzdy.cc/images/default.jpg\n",
      "10\n",
      "https://i1.jbzdy.cc/contents/2019/11/normal/p2tXnKsSxeXtv7rJIDOVqjBfbSOgu0XT.jpg\n",
      "Tak to jest11\n",
      "https://jbzdy.cc/images/default.jpg\n",
      "12\n",
      "https://i1.jbzdy.cc/contents/2019/11/normal/RVAC8yzPSK6IlZw5tcznhre1Rdic9UdE.jpg\n",
      "Najlepsze zdjęcie powierzchni Wenus13\n",
      "https://jbzdy.cc/images/default.jpg\n",
      "14\n",
      "https://i1.jbzdy.cc/contents/2019/11/normal/c9VhzWotA53kmwojDP4sVBZBPPXQtS4j.jpg\n",
      "Zawsze xD15\n",
      "https://jbzdy.cc/images/default.jpg\n",
      "16\n",
      "https://i1.jbzdy.cc/contents/2019/11/normal/MTkBNXNOoaRXpJ1IHRIbTLAC4MnTwOEY.jpg\n",
      "Zawsze17\n",
      "https://i1.jbzdy.cc/contents/2019/09/mobile/c23b1bc97c43a6bbf30e57d53413c4a0.jpg\n",
      "Tato pomóż. 18\n",
      "https://i1.jbzdy.cc/contents/2019/09/mobile/66a092aa0e2fa341d999ecee297cd288.jpg\n",
      "Ale jak to? 19\n",
      "https://i1.jbzdy.cc/contents/2019/09/mobile/ccac47f33e9bbc390247ef6e29b74582.jpg\n",
      "Poduszka20\n",
      "https://i1.jbzdy.cc/contents/2019/09/mobile/364c9c0576af3f83c0a564b262e96527.jpg\n",
      "Jaka jest różnica21\n",
      "https://i1.jbzdy.cc/contents/2019/09/mobile/1dbc8bcf7da587fd47c201909ff1ef4d.png\n",
      "Wygryw XDDD22\n"
     ]
    }
   ],
   "source": [
    "#zadanie 3 wyświetlenie wszystkich linków do memów ze strony i ich tytułów\n",
    "odpowiedz = requests.get(\"https://jbzdy.cc/\")\n",
    "soup = BeautifulSoup(odpowiedz.text, 'html.parser')\n",
    "l=1\n",
    "for link in soup.find_all('img'):\n",
    "    print(link.get('src'))\n",
    "    x=link.get('alt')\n",
    "    x+=str(l)\n",
    "    print(x)\n",
    "    linki[\"A\"+str(l)]=link.get('src')\n",
    "    l=l+1\n",
    "workbook.save('ambroziak-165ica1.xlsx')"
   ]
  },
  {
   "cell_type": "code",
   "execution_count": null,
   "metadata": {},
   "outputs": [],
   "source": []
  }
 ],
 "metadata": {
  "kernelspec": {
   "display_name": "Python 3",
   "language": "python",
   "name": "python3"
  },
  "language_info": {
   "codemirror_mode": {
    "name": "ipython",
    "version": 3
   },
   "file_extension": ".py",
   "mimetype": "text/x-python",
   "name": "python",
   "nbconvert_exporter": "python",
   "pygments_lexer": "ipython3",
   "version": "3.7.4"
  }
 },
 "nbformat": 4,
 "nbformat_minor": 2
}
