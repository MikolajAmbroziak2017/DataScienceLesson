{
 "cells": [
  {
   "cell_type": "code",
   "execution_count": 81,
   "metadata": {},
   "outputs": [],
   "source": [
    "import numpy as np\n",
    "import pandas as pd\n",
    "\n",
    "def function(x):\n",
    "    if x > 0:\n",
    "        return 1\n",
    "    return 0"
   ]
  },
  {
   "cell_type": "code",
   "execution_count": 82,
   "metadata": {},
   "outputs": [],
   "source": [
    "biasAND = 1 * -1.5"
   ]
  },
  {
   "cell_type": "code",
   "execution_count": 83,
   "metadata": {},
   "outputs": [
    {
     "name": "stdout",
     "output_type": "stream",
     "text": [
      "{'x1': 0, 'x2': 0, 'Waga dla x1': 1, 'Waga dla x2': 1, 'Waga dla biasa': -1.5, 'x1*x1Waga': 0, 'x2*x2Waga': 0, 'Output': 0}\n",
      "{'x1': 0, 'x2': 1, 'Waga dla x1': 1, 'Waga dla x2': 1, 'Waga dla biasa': -1.5, 'x1*x1Waga': 0, 'x2*x2Waga': 1, 'Output': 0}\n",
      "{'x1': 1, 'x2': 0, 'Waga dla x1': 1, 'Waga dla x2': 1, 'Waga dla biasa': -1.5, 'x1*x1Waga': 1, 'x2*x2Waga': 0, 'Output': 0}\n",
      "{'x1': 1, 'x2': 1, 'Waga dla x1': 1, 'Waga dla x2': 1, 'Waga dla biasa': -1.5, 'x1*x1Waga': 1, 'x2*x2Waga': 1, 'Output': 1}\n"
     ]
    }
   ],
   "source": [
    "inputs = [[0,0], [0,1], [1,0], [1,1]]\n",
    "x1Waga = 1\n",
    "x2Waga = 1\n",
    "for inp in inputs:\n",
    "    output = function(biasAND + inp[0] + inp[1])   \n",
    "    dataset = {'x1': inp[0], 'x2': inp[1], 'Waga dla x1': x1Waga, 'Waga dla x2': x2Waga, 'Waga dla biasa': -1.5,\n",
    "              'x1*x1Waga': inp[0]*x1Waga, 'x2*x2Waga': inp[1]*x2Waga, 'Output': output}\n",
    "    pd.DataFrame(dataset, index=[0,1,2,3])\n",
    "    print(dataset)\n",
    "    "
   ]
  },
  {
   "cell_type": "code",
   "execution_count": 84,
   "metadata": {},
   "outputs": [],
   "source": [
    "biasOR = 1 * -0.5"
   ]
  },
  {
   "cell_type": "code",
   "execution_count": 87,
   "metadata": {},
   "outputs": [
    {
     "name": "stdout",
     "output_type": "stream",
     "text": [
      "{'x1': 0, 'x2': 0, 'Waga dla x1': 1, 'Waga dla x2': 1, 'Waga bias\"a': -0.5, 'x1*x1Waga': 0, 'x2*x2Waga': 0, 'Output': 0}\n",
      "{'x1': 0, 'x2': 1, 'Waga dla x1': 1, 'Waga dla x2': 1, 'Waga bias\"a': -0.5, 'x1*x1Waga': 0, 'x2*x2Waga': 1, 'Output': 1}\n",
      "{'x1': 1, 'x2': 0, 'Waga dla x1': 1, 'Waga dla x2': 1, 'Waga bias\"a': -0.5, 'x1*x1Waga': 1, 'x2*x2Waga': 0, 'Output': 1}\n",
      "{'x1': 1, 'x2': 1, 'Waga dla x1': 1, 'Waga dla x2': 1, 'Waga bias\"a': -0.5, 'x1*x1Waga': 1, 'x2*x2Waga': 1, 'Output': 1}\n"
     ]
    }
   ],
   "source": [
    "for inp in inputs:\n",
    "    output = function(biasOR + inp[0] + inp[1])\n",
    "    dataset = {'x1': inp[0], 'x2': inp[1], 'Waga dla x1': x1Waga, 'Waga dla x2': x2Waga, 'Waga bias\"a': -0.5,\n",
    "              'x1*x1Waga': inp[0]*x1Waga, 'x2*x2Waga': inp[1]*x2Waga, 'Output': output}\n",
    "    pd.DataFrame(dataset, index=[0,1,2,3])\n",
    "    print(dataset)"
   ]
  },
  {
   "cell_type": "code",
   "execution_count": 88,
   "metadata": {},
   "outputs": [],
   "source": [
    "biasNot = 1"
   ]
  },
  {
   "cell_type": "code",
   "execution_count": 91,
   "metadata": {},
   "outputs": [
    {
     "name": "stdout",
     "output_type": "stream",
     "text": [
      "{'x1': 0, 'Waga dla x1': 0, 'Waga bias\"a': 1, 'x1*x1Waga': 0, 'Output': 1}\n",
      "{'x1': 1, 'Waga dla x1': -2, 'Waga bias\"a': 1, 'x1*x1Waga': -2, 'Output': 0}\n"
     ]
    }
   ],
   "source": [
    "NOT=[0,1]\n",
    "for inp in NOT:\n",
    "    x1Waga = -2 * inp\n",
    "    output = function(biasNot + x1Waga)\n",
    "    dataset = {'x1': inp, 'Waga dla x1': x1Waga, 'Waga bias\"a': 1,\n",
    "              'x1*x1Waga': inp*x1Waga, 'Output': output}\n",
    "    pd.DataFrame(dataset, index=[0,1,2,3])\n",
    "    print(dataset)"
   ]
  },
  {
   "cell_type": "code",
   "execution_count": 103,
   "metadata": {},
   "outputs": [
    {
     "name": "stdout",
     "output_type": "stream",
     "text": [
      "   1 wezel  2 wezel  1 wezel 2 warstwy  2 wezel 2 warstwy  Output\n",
      "0        0        0                  1                  0       1\n",
      "   1 wezel  2 wezel  1 wezel 2 warstwy  2 wezel 2 warstwy  Output\n",
      "1        0        1                  0                  0       0\n",
      "   1 wezel  2 wezel  1 wezel 2 warstwy  2 wezel 2 warstwy  Output\n",
      "2        1        0                  0                  0       0\n",
      "   1 wezel  2 wezel  1 wezel 2 warstwy  2 wezel 2 warstwy  Output\n",
      "3        1        1                  0                  1       1\n"
     ]
    }
   ],
   "source": [
    "#XNOR\n",
    "idx = 0\n",
    "for inp in inputs:\n",
    "    a1 = function(0.5 + inp[0] * -1 + inp[1] * -1)\n",
    "    a2 = function(-1.5 + inp[0] + inp[1])\n",
    "    a3 = function(-0.5 + a1 + a2) \n",
    "    \n",
    "    WeightsXNOR = { 'x1 dla a1': -1, 'x2 dla a1': -1,'bias dla a1':0.5, 'x1 dla a2': 1, 'x2 dla a2': 1, 'bias dla a2':-1.5, \n",
    "               'a1 dla a3': 1,'a2 dla a3': 1, 'bias dla a3': -0.5}\n",
    "    \n",
    "    \n",
    "    Inputs = {'1 wezel': inp[0], '2 wezel': inp[1], '1 wezel 2 warstwy': a1, '2 wezel 2 warstwy': a2, 'Output': a3}\n",
    "    print(pd.DataFrame(Inputs, index=[idx]))\n",
    "    idx+=1"
   ]
  },
  {
   "cell_type": "code",
   "execution_count": 101,
   "metadata": {},
   "outputs": [
    {
     "name": "stdout",
     "output_type": "stream",
     "text": [
      "0\n",
      "1\n",
      "1\n",
      "0\n"
     ]
    }
   ],
   "source": [
    "for input in inputs: #xor\n",
    "    x1 = input[0]\n",
    "    x2 = input[1]\n",
    "    neuron1_1 = function(-10 + x1 * 20 + 20 * x2)\n",
    "    neuron1_2 = function(30 + x1 * -20 + x2 * -20)\n",
    "    neuron2 = function(-30 + neuron1_1 * 20 + neuron1_2 * 20)\n",
    "    #dla 0 0\n",
    "    #dla 0 1\n",
    "    #dla 1 0\n",
    "    #dla 1\n",
    "    print(neuron2)"
   ]
  },
  {
   "cell_type": "code",
   "execution_count": null,
   "metadata": {},
   "outputs": [],
   "source": []
  }
 ],
 "metadata": {
  "kernelspec": {
   "display_name": "Python 3",
   "language": "python",
   "name": "python3"
  },
  "language_info": {
   "codemirror_mode": {
    "name": "ipython",
    "version": 3
   },
   "file_extension": ".py",
   "mimetype": "text/x-python",
   "name": "python",
   "nbconvert_exporter": "python",
   "pygments_lexer": "ipython3",
   "version": "3.7.4"
  }
 },
 "nbformat": 4,
 "nbformat_minor": 2
}
